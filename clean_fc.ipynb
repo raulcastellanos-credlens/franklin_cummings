{
 "cells": [
  {
   "cell_type": "markdown",
   "metadata": {},
   "source": [
    "Import packages"
   ]
  },
  {
   "cell_type": "code",
   "execution_count": 82,
   "metadata": {},
   "outputs": [],
   "source": [
    "import pandas as pd\n",
    "import janitor\n",
    "from datetime import datetime\n",
    "import matplotlib.pyplot as plt\n",
    "import numpy as np\n",
    "\n",
    "\n",
    "pd.options.display.max_seq_items = 2000"
   ]
  },
  {
   "cell_type": "markdown",
   "metadata": {},
   "source": [
    "Ingest data"
   ]
  },
  {
   "cell_type": "code",
   "execution_count": 83,
   "metadata": {},
   "outputs": [
    {
     "data": {
      "text/plain": [
       "(1999, 28)"
      ]
     },
     "execution_count": 83,
     "metadata": {},
     "output_type": "execute_result"
    }
   ],
   "source": [
    "file_path = '../data/CredLens Data File - CredLens Data File.csv'\n",
    "fc_data = pd.read_csv(file_path)\n",
    "fc_data.shape"
   ]
  },
  {
   "cell_type": "markdown",
   "metadata": {},
   "source": [
    "Column names "
   ]
  },
  {
   "cell_type": "code",
   "execution_count": 84,
   "metadata": {},
   "outputs": [
    {
     "data": {
      "text/plain": [
       "Index(['FirstName', 'MiddleInitial', 'LastName', 'BirthDate', 'Degree',\n",
       "       'Major1', 'MajorID1', 'CognateID1', 'StudentUID', 'ExpectedGradTerm',\n",
       "       'StudentSSN', 'Email1', 'Address1', 'Address2', 'City', 'State',\n",
       "       'ZipCode', 'Phone1', 'Phone2', 'MobilePhone', 'GraduationDate',\n",
       "       'Cohort', 'Gender', 'EthnicOrigin', 'IsHispanic', 'CIPCode', 'Campus',\n",
       "       'CostType'],\n",
       "      dtype='object')"
      ]
     },
     "execution_count": 84,
     "metadata": {},
     "output_type": "execute_result"
    }
   ],
   "source": [
    "column_names = fc_data.columns\n",
    "column_names"
   ]
  },
  {
   "cell_type": "markdown",
   "metadata": {},
   "source": [
    "Clean the names "
   ]
  },
  {
   "cell_type": "code",
   "execution_count": 85,
   "metadata": {},
   "outputs": [],
   "source": [
    "fc_data = fc_data.clean_names()"
   ]
  },
  {
   "cell_type": "markdown",
   "metadata": {},
   "source": [
    "Clean SSN "
   ]
  },
  {
   "cell_type": "code",
   "execution_count": 86,
   "metadata": {},
   "outputs": [
    {
     "name": "stderr",
     "output_type": "stream",
     "text": [
      "/var/folders/tx/5kc1s5j56ks8n7b45l51_3vw0000gn/T/ipykernel_24953/1706472411.py:2: SettingWithCopyWarning: \n",
      "A value is trying to be set on a copy of a slice from a DataFrame.\n",
      "Try using .loc[row_indexer,col_indexer] = value instead\n",
      "\n",
      "See the caveats in the documentation: https://pandas.pydata.org/pandas-docs/stable/user_guide/indexing.html#returning-a-view-versus-a-copy\n",
      "  fc_data[\"ssn\"] = fc_data[\"studentssn\"].str.replace(\"-\", \"\", regex=True)\n",
      "/var/folders/tx/5kc1s5j56ks8n7b45l51_3vw0000gn/T/ipykernel_24953/1706472411.py:4: SettingWithCopyWarning: \n",
      "A value is trying to be set on a copy of a slice from a DataFrame.\n",
      "Try using .loc[row_indexer,col_indexer] = value instead\n",
      "\n",
      "See the caveats in the documentation: https://pandas.pydata.org/pandas-docs/stable/user_guide/indexing.html#returning-a-view-versus-a-copy\n",
      "  fc_data[\"ssn\"] = fc_data[\"ssn\"].where(fc_data[\"ssn\"].str.fullmatch(r\"\\d{9}\"), np.nan)\n"
     ]
    },
    {
     "data": {
      "text/plain": [
       "(1999, 29)"
      ]
     },
     "execution_count": 86,
     "metadata": {},
     "output_type": "execute_result"
    }
   ],
   "source": [
    "# Remove dashes from SSNs, keeping NaN values unchanged\n",
    "fc_data[\"ssn\"] = fc_data[\"studentssn\"].str.replace(\"-\", \"\", regex=True)\n",
    "# Keep rows where 'ssn' is either NaN or matches exactly 9 digits\n",
    "fc_data[\"ssn\"] = fc_data[\"ssn\"].where(fc_data[\"ssn\"].str.fullmatch(r\"\\d{9}\"), np.nan)\n",
    "\n",
    "fc_data.shape"
   ]
  },
  {
   "cell_type": "markdown",
   "metadata": {},
   "source": [
    "Clean the dates in yyyymmdd format "
   ]
  },
  {
   "cell_type": "code",
   "execution_count": 87,
   "metadata": {},
   "outputs": [
    {
     "name": "stderr",
     "output_type": "stream",
     "text": [
      "/var/folders/tx/5kc1s5j56ks8n7b45l51_3vw0000gn/T/ipykernel_24953/3110799253.py:1: SettingWithCopyWarning: \n",
      "A value is trying to be set on a copy of a slice from a DataFrame.\n",
      "Try using .loc[row_indexer,col_indexer] = value instead\n",
      "\n",
      "See the caveats in the documentation: https://pandas.pydata.org/pandas-docs/stable/user_guide/indexing.html#returning-a-view-versus-a-copy\n",
      "  fc_data[\"birthdate\"] = pd.to_datetime(fc_data[\"birthdate\"]).dt.strftime('%Y%m%d')\n",
      "/var/folders/tx/5kc1s5j56ks8n7b45l51_3vw0000gn/T/ipykernel_24953/3110799253.py:2: SettingWithCopyWarning: \n",
      "A value is trying to be set on a copy of a slice from a DataFrame.\n",
      "Try using .loc[row_indexer,col_indexer] = value instead\n",
      "\n",
      "See the caveats in the documentation: https://pandas.pydata.org/pandas-docs/stable/user_guide/indexing.html#returning-a-view-versus-a-copy\n",
      "  fc_data[\"graduationdate\"] = pd.to_datetime(fc_data[\"graduationdate\"]).dt.strftime('%Y%m%d')\n"
     ]
    }
   ],
   "source": [
    "fc_data[\"birthdate\"] = pd.to_datetime(fc_data[\"birthdate\"]).dt.strftime('%Y%m%d')\n",
    "fc_data[\"graduationdate\"] = pd.to_datetime(fc_data[\"graduationdate\"]).dt.strftime('%Y%m%d')"
   ]
  },
  {
   "cell_type": "markdown",
   "metadata": {},
   "source": [
    "Clean states names to code states "
   ]
  },
  {
   "cell_type": "code",
   "execution_count": 88,
   "metadata": {},
   "outputs": [
    {
     "data": {
      "text/plain": [
       "state\n",
       "MA    1846\n",
       "FL      18\n",
       "NH      14\n",
       "RI      12\n",
       "TX      11\n",
       "Name: count, dtype: int64"
      ]
     },
     "execution_count": 88,
     "metadata": {},
     "output_type": "execute_result"
    }
   ],
   "source": [
    "#FC data is already in this format \n",
    "fc_data.state.value_counts().head()"
   ]
  },
  {
   "cell_type": "markdown",
   "metadata": {},
   "source": [
    "Create age bucket"
   ]
  },
  {
   "cell_type": "code",
   "execution_count": 89,
   "metadata": {},
   "outputs": [],
   "source": [
    "def calculate_age_bucket(row):\n",
    "    \"\"\"\n",
    "    Calculate the age bucket based on birthdate and graduationdate.\n",
    "    The input should be a row containing 'birthdate' and 'graduationdate' in 'yyyymmdd' format.\n",
    "    \"\"\"\n",
    "    try:\n",
    "        # Convert to datetime\n",
    "        birthdate = datetime.strptime(row[\"birthdate\"], '%Y%m%d')\n",
    "        graduationdate = datetime.strptime(row[\"graduationdate\"], '%Y%m%d')\n",
    "\n",
    "        # Calculate age at graduation date\n",
    "        age = graduationdate.year - birthdate.year - ((graduationdate.month, graduationdate.day) < (birthdate.month, birthdate.day))\n",
    "\n",
    "        # Assign age bucket\n",
    "        if age < 18:\n",
    "            return \"Under 18\"\n",
    "        elif 18 <= age <= 24:\n",
    "            return \"18-24\"\n",
    "        elif 25 <= age <= 34:\n",
    "            return \"25-34\"\n",
    "        elif 35 <= age <= 44:\n",
    "            return \"35-44\"\n",
    "        elif 45 <= age <= 54:\n",
    "            return \"45-54\"\n",
    "        elif 55 <= age <= 64:\n",
    "            return \"55-64\"\n",
    "        else:\n",
    "            return \"65 or over\"\n",
    "    except Exception as e:\n",
    "        return \"Invalid Date\"\n",
    "\n",
    "fc_data[\"age_bucket\"] = fc_data.apply(calculate_age_bucket, axis=1)"
   ]
  },
  {
   "cell_type": "code",
   "execution_count": 90,
   "metadata": {},
   "outputs": [
    {
     "data": {
      "image/png": "[encoded data removed]",
      "text/plain": [
       "<Figure size 640x480 with 1 Axes>"
      ]
     },
     "metadata": {},
     "output_type": "display_data"
    }
   ],
   "source": [
    "category_counts = fc_data['age_bucket'].value_counts()\n",
    "category_counts.plot(kind='bar')\n",
    "plt.title('Age Bucket Counts')\n",
    "plt.xlabel('Category')\n",
    "plt.ylabel('Count')\n",
    "plt.show()"
   ]
  },
  {
   "cell_type": "markdown",
   "metadata": {},
   "source": [
    "Make address1 contain both address1 and address2 "
   ]
  },
  {
   "cell_type": "code",
   "execution_count": 91,
   "metadata": {},
   "outputs": [],
   "source": [
    "fc_data['address1'] = fc_data['address1'] + (' ' + fc_data['address2']).fillna('')"
   ]
  },
  {
   "cell_type": "markdown",
   "metadata": {},
   "source": [
    "Rename variables for golden record standard in snake_case format"
   ]
  },
  {
   "cell_type": "code",
   "execution_count": 92,
   "metadata": {},
   "outputs": [],
   "source": [
    "fc_data.rename(columns={\n",
    "    'firstname': 'first_name',\n",
    "    'middleinitial': 'middle_name', \n",
    "    'lastname': 'last_name', \n",
    "    'birthdate': 'dob', \n",
    "    'degree': 'credential_type', \n",
    "    'majorid1': 'credential_name', \n",
    "    'street_line_1' : 'address1', \n",
    "    'phone1': 'phone_number', \n",
    "    'graduationdate': 'credential_award_date', \n",
    "    'ethnicorigin': 'race_ethnicity', \n",
    "    'cipcode' : 'custom_attribute_1', \n",
    "    'age_bucket': 'age_bucket_at_cred_award'\n",
    "}, inplace=True)"
   ]
  },
  {
   "cell_type": "markdown",
   "metadata": {},
   "source": [
    "Add transaction columns"
   ]
  },
  {
   "cell_type": "code",
   "execution_count": 93,
   "metadata": {},
   "outputs": [],
   "source": [
    "fc_data['tx_date'] = 20241007 \n",
    "fc_data['organization_name'] = 'Franklin Cummings'\n"
   ]
  },
  {
   "cell_type": "markdown",
   "metadata": {},
   "source": [
    "Order the columns"
   ]
  },
  {
   "cell_type": "code",
   "execution_count": 97,
   "metadata": {},
   "outputs": [],
   "source": [
    "desired_order = ['first_name', \n",
    "                 'middle_name', \n",
    "                 'last_name', \n",
    "                 'ssn', \n",
    "                 'address1', \n",
    "                 'city', \n",
    "                 'state', \n",
    "                 'zipcode', \n",
    "                 'credential_award_date', \n",
    "                 'credential_type', \n",
    "                 'credential_name', \n",
    "                 'race_ethnicity', \n",
    "                 'gender', \n",
    "                 'age_bucket_at_cred_award', \n",
    "                 'custom_attribute_1', \n",
    "                 'tx_date', \n",
    "                 'organization_name'\n",
    "                 ]\n",
    "\n",
    "fc_data = fc_data[desired_order]"
   ]
  },
  {
   "cell_type": "code",
   "execution_count": 100,
   "metadata": {},
   "outputs": [
    {
     "data": {
      "text/html": [
       "<div>\n",
       "<style scoped>\n",
       "    .dataframe tbody tr th:only-of-type {\n",
       "        vertical-align: middle;\n",
       "    }\n",
       "\n",
       "    .dataframe tbody tr th {\n",
       "        vertical-align: top;\n",
       "    }\n",
       "\n",
       "    .dataframe thead th {\n",
       "        text-align: right;\n",
       "    }\n",
       "</style>\n",
       "<table border=\"1\" class=\"dataframe\">\n",
       "  <thead>\n",
       "    <tr style=\"text-align: right;\">\n",
       "      <th></th>\n",
       "      <th>first_name</th>\n",
       "      <th>middle_name</th>\n",
       "      <th>last_name</th>\n",
       "      <th>ssn</th>\n",
       "      <th>address1</th>\n",
       "      <th>city</th>\n",
       "      <th>state</th>\n",
       "      <th>zipcode</th>\n",
       "      <th>credential_award_date</th>\n",
       "      <th>credential_type</th>\n",
       "      <th>credential_name</th>\n",
       "      <th>race_ethnicity</th>\n",
       "      <th>gender</th>\n",
       "      <th>age_bucket_at_cred_award</th>\n",
       "      <th>custom_attribute_1</th>\n",
       "      <th>tx_date</th>\n",
       "      <th>organization_name</th>\n",
       "    </tr>\n",
       "  </thead>\n",
       "  <tbody>\n",
       "    <tr>\n",
       "      <th>0</th>\n",
       "      <td>Steve</td>\n",
       "      <td>NaN</td>\n",
       "      <td>Alexis</td>\n",
       "      <td>285313310</td>\n",
       "      <td>73 Heritage Land</td>\n",
       "      <td>Leominster</td>\n",
       "      <td>MA</td>\n",
       "      <td>1453</td>\n",
       "      <td>20220504</td>\n",
       "      <td>ASSOCIATE IN SCIENCE</td>\n",
       "      <td>7</td>\n",
       "      <td>BLACK OR AFRICAN AMERICAN</td>\n",
       "      <td>Male</td>\n",
       "      <td>25-34</td>\n",
       "      <td>47.0604</td>\n",
       "      <td>20241007</td>\n",
       "      <td>Franklin Cummings</td>\n",
       "    </tr>\n",
       "    <tr>\n",
       "      <th>1</th>\n",
       "      <td>Amarilio</td>\n",
       "      <td>J</td>\n",
       "      <td>Veiga</td>\n",
       "      <td>014907473</td>\n",
       "      <td>111 Park Street</td>\n",
       "      <td>Boston</td>\n",
       "      <td>MA</td>\n",
       "      <td>2122</td>\n",
       "      <td>20170503</td>\n",
       "      <td>ASSOCIATE IN SCIENCE</td>\n",
       "      <td>7</td>\n",
       "      <td>CAPE VERDEAN</td>\n",
       "      <td>Male</td>\n",
       "      <td>25-34</td>\n",
       "      <td>47.0604</td>\n",
       "      <td>20241007</td>\n",
       "      <td>Franklin Cummings</td>\n",
       "    </tr>\n",
       "    <tr>\n",
       "      <th>2</th>\n",
       "      <td>Brian</td>\n",
       "      <td>Edilson</td>\n",
       "      <td>Morales</td>\n",
       "      <td>022788180</td>\n",
       "      <td>40 John Street Apt. 1</td>\n",
       "      <td>Chelsea</td>\n",
       "      <td>MA</td>\n",
       "      <td>2150</td>\n",
       "      <td>20160505</td>\n",
       "      <td>ASSOCIATE IN SCIENCE</td>\n",
       "      <td>7</td>\n",
       "      <td>HISPANIC/LATINO</td>\n",
       "      <td>Male</td>\n",
       "      <td>18-24</td>\n",
       "      <td>47.0604</td>\n",
       "      <td>20241007</td>\n",
       "      <td>Franklin Cummings</td>\n",
       "    </tr>\n",
       "    <tr>\n",
       "      <th>3</th>\n",
       "      <td>Daniel</td>\n",
       "      <td>NaN</td>\n",
       "      <td>Andrews</td>\n",
       "      <td>026767205</td>\n",
       "      <td>3 B Street</td>\n",
       "      <td>Lynn</td>\n",
       "      <td>MA</td>\n",
       "      <td>1905</td>\n",
       "      <td>20170503</td>\n",
       "      <td>ASSOCIATE IN SCIENCE</td>\n",
       "      <td>7</td>\n",
       "      <td>WHITE</td>\n",
       "      <td>Male</td>\n",
       "      <td>18-24</td>\n",
       "      <td>47.0604</td>\n",
       "      <td>20241007</td>\n",
       "      <td>Franklin Cummings</td>\n",
       "    </tr>\n",
       "    <tr>\n",
       "      <th>4</th>\n",
       "      <td>Ryan</td>\n",
       "      <td>Patrick</td>\n",
       "      <td>Chetwynd</td>\n",
       "      <td>029860804</td>\n",
       "      <td>28 Wentworth Rd</td>\n",
       "      <td>Quincy</td>\n",
       "      <td>MA</td>\n",
       "      <td>2170</td>\n",
       "      <td>20231218</td>\n",
       "      <td>ASSOCIATE IN SCIENCE</td>\n",
       "      <td>7</td>\n",
       "      <td>WHITE</td>\n",
       "      <td>Male</td>\n",
       "      <td>18-24</td>\n",
       "      <td>47.0604</td>\n",
       "      <td>20241007</td>\n",
       "      <td>Franklin Cummings</td>\n",
       "    </tr>\n",
       "    <tr>\n",
       "      <th>...</th>\n",
       "      <td>...</td>\n",
       "      <td>...</td>\n",
       "      <td>...</td>\n",
       "      <td>...</td>\n",
       "      <td>...</td>\n",
       "      <td>...</td>\n",
       "      <td>...</td>\n",
       "      <td>...</td>\n",
       "      <td>...</td>\n",
       "      <td>...</td>\n",
       "      <td>...</td>\n",
       "      <td>...</td>\n",
       "      <td>...</td>\n",
       "      <td>...</td>\n",
       "      <td>...</td>\n",
       "      <td>...</td>\n",
       "      <td>...</td>\n",
       "    </tr>\n",
       "    <tr>\n",
       "      <th>1994</th>\n",
       "      <td>Abdellah</td>\n",
       "      <td>NaN</td>\n",
       "      <td>Fakri</td>\n",
       "      <td>093815287</td>\n",
       "      <td>84 Shirley Ave</td>\n",
       "      <td>Revere</td>\n",
       "      <td>MA</td>\n",
       "      <td>2151</td>\n",
       "      <td>20240507</td>\n",
       "      <td>CERTIFICATE OF PROFICIENCY</td>\n",
       "      <td>138</td>\n",
       "      <td>NON-DISCLOSED</td>\n",
       "      <td>Male</td>\n",
       "      <td>25-34</td>\n",
       "      <td>15.0303</td>\n",
       "      <td>20241007</td>\n",
       "      <td>Franklin Cummings</td>\n",
       "    </tr>\n",
       "    <tr>\n",
       "      <th>1995</th>\n",
       "      <td>Antonio</td>\n",
       "      <td>NaN</td>\n",
       "      <td>Hall</td>\n",
       "      <td>587935582</td>\n",
       "      <td>3 Fuller St Apt 3</td>\n",
       "      <td>Boston</td>\n",
       "      <td>MA</td>\n",
       "      <td>2124</td>\n",
       "      <td>20240507</td>\n",
       "      <td>CERTIFICATE OF PROFICIENCY</td>\n",
       "      <td>138</td>\n",
       "      <td>BLACK OR AFRICAN AMERICAN</td>\n",
       "      <td>Male</td>\n",
       "      <td>18-24</td>\n",
       "      <td>15.0303</td>\n",
       "      <td>20241007</td>\n",
       "      <td>Franklin Cummings</td>\n",
       "    </tr>\n",
       "    <tr>\n",
       "      <th>1996</th>\n",
       "      <td>John</td>\n",
       "      <td>Morgan</td>\n",
       "      <td>Dixon</td>\n",
       "      <td>140685708</td>\n",
       "      <td>3 Pudding Brook Dr.</td>\n",
       "      <td>Pembroke</td>\n",
       "      <td>MA</td>\n",
       "      <td>2359</td>\n",
       "      <td>20240507</td>\n",
       "      <td>CERTIFICATE OF PROFICIENCY</td>\n",
       "      <td>138</td>\n",
       "      <td>NON-DISCLOSED</td>\n",
       "      <td>Male</td>\n",
       "      <td>55-64</td>\n",
       "      <td>15.0303</td>\n",
       "      <td>20241007</td>\n",
       "      <td>Franklin Cummings</td>\n",
       "    </tr>\n",
       "    <tr>\n",
       "      <th>1997</th>\n",
       "      <td>Nicholas</td>\n",
       "      <td>David</td>\n",
       "      <td>Hilderbrand</td>\n",
       "      <td>237451339</td>\n",
       "      <td>535 Woonasquatucket</td>\n",
       "      <td>N. Providence</td>\n",
       "      <td>RI</td>\n",
       "      <td>2911</td>\n",
       "      <td>20240507</td>\n",
       "      <td>CERTIFICATE OF PROFICIENCY</td>\n",
       "      <td>138</td>\n",
       "      <td>WHITE</td>\n",
       "      <td>Male</td>\n",
       "      <td>35-44</td>\n",
       "      <td>15.0303</td>\n",
       "      <td>20241007</td>\n",
       "      <td>Franklin Cummings</td>\n",
       "    </tr>\n",
       "    <tr>\n",
       "      <th>1998</th>\n",
       "      <td>Mackenzy</td>\n",
       "      <td>NaN</td>\n",
       "      <td>Beauciquot</td>\n",
       "      <td>673886125</td>\n",
       "      <td>135 Willard St, Apt 10</td>\n",
       "      <td>Quincy</td>\n",
       "      <td>MA</td>\n",
       "      <td>2169</td>\n",
       "      <td>20240507</td>\n",
       "      <td>CERTIFICATE OF PROFICIENCY</td>\n",
       "      <td>138</td>\n",
       "      <td>BLACK OR AFRICAN AMERICAN</td>\n",
       "      <td>Male</td>\n",
       "      <td>45-54</td>\n",
       "      <td>15.0303</td>\n",
       "      <td>20241007</td>\n",
       "      <td>Franklin Cummings</td>\n",
       "    </tr>\n",
       "  </tbody>\n",
       "</table>\n",
       "<p>1999 rows × 17 columns</p>\n",
       "</div>"
      ],
      "text/plain": [
       "     first_name middle_name    last_name        ssn                address1  \\\n",
       "0         Steve         NaN       Alexis  285313310        73 Heritage Land   \n",
       "1      Amarilio           J        Veiga  014907473         111 Park Street   \n",
       "2         Brian     Edilson      Morales  022788180   40 John Street Apt. 1   \n",
       "3        Daniel         NaN      Andrews  026767205              3 B Street   \n",
       "4          Ryan     Patrick     Chetwynd  029860804         28 Wentworth Rd   \n",
       "...         ...         ...          ...        ...                     ...   \n",
       "1994   Abdellah         NaN        Fakri  093815287          84 Shirley Ave   \n",
       "1995    Antonio         NaN         Hall  587935582       3 Fuller St Apt 3   \n",
       "1996       John      Morgan        Dixon  140685708     3 Pudding Brook Dr.   \n",
       "1997   Nicholas       David  Hilderbrand  237451339     535 Woonasquatucket   \n",
       "1998   Mackenzy         NaN   Beauciquot  673886125  135 Willard St, Apt 10   \n",
       "\n",
       "               city state zipcode credential_award_date  \\\n",
       "0        Leominster    MA    1453              20220504   \n",
       "1            Boston    MA    2122              20170503   \n",
       "2           Chelsea    MA    2150              20160505   \n",
       "3              Lynn    MA    1905              20170503   \n",
       "4            Quincy    MA    2170              20231218   \n",
       "...             ...   ...     ...                   ...   \n",
       "1994         Revere    MA    2151              20240507   \n",
       "1995         Boston    MA    2124              20240507   \n",
       "1996       Pembroke    MA    2359              20240507   \n",
       "1997  N. Providence    RI    2911              20240507   \n",
       "1998         Quincy    MA    2169              20240507   \n",
       "\n",
       "                 credential_type  credential_name             race_ethnicity  \\\n",
       "0           ASSOCIATE IN SCIENCE                7  BLACK OR AFRICAN AMERICAN   \n",
       "1           ASSOCIATE IN SCIENCE                7               CAPE VERDEAN   \n",
       "2           ASSOCIATE IN SCIENCE                7            HISPANIC/LATINO   \n",
       "3           ASSOCIATE IN SCIENCE                7                      WHITE   \n",
       "4           ASSOCIATE IN SCIENCE                7                      WHITE   \n",
       "...                          ...              ...                        ...   \n",
       "1994  CERTIFICATE OF PROFICIENCY              138              NON-DISCLOSED   \n",
       "1995  CERTIFICATE OF PROFICIENCY              138  BLACK OR AFRICAN AMERICAN   \n",
       "1996  CERTIFICATE OF PROFICIENCY              138              NON-DISCLOSED   \n",
       "1997  CERTIFICATE OF PROFICIENCY              138                      WHITE   \n",
       "1998  CERTIFICATE OF PROFICIENCY              138  BLACK OR AFRICAN AMERICAN   \n",
       "\n",
       "     gender age_bucket_at_cred_award  custom_attribute_1   tx_date  \\\n",
       "0      Male                    25-34             47.0604  20241007   \n",
       "1      Male                    25-34             47.0604  20241007   \n",
       "2      Male                    18-24             47.0604  20241007   \n",
       "3      Male                    18-24             47.0604  20241007   \n",
       "4      Male                    18-24             47.0604  20241007   \n",
       "...     ...                      ...                 ...       ...   \n",
       "1994   Male                    25-34             15.0303  20241007   \n",
       "1995   Male                    18-24             15.0303  20241007   \n",
       "1996   Male                    55-64             15.0303  20241007   \n",
       "1997   Male                    35-44             15.0303  20241007   \n",
       "1998   Male                    45-54             15.0303  20241007   \n",
       "\n",
       "      organization_name  \n",
       "0     Franklin Cummings  \n",
       "1     Franklin Cummings  \n",
       "2     Franklin Cummings  \n",
       "3     Franklin Cummings  \n",
       "4     Franklin Cummings  \n",
       "...                 ...  \n",
       "1994  Franklin Cummings  \n",
       "1995  Franklin Cummings  \n",
       "1996  Franklin Cummings  \n",
       "1997  Franklin Cummings  \n",
       "1998  Franklin Cummings  \n",
       "\n",
       "[1999 rows x 17 columns]"
      ]
     },
     "execution_count": 100,
     "metadata": {},
     "output_type": "execute_result"
    }
   ],
   "source": [
    "fc_data"
   ]
  },
  {
   "cell_type": "code",
   "execution_count": null,
   "metadata": {},
   "outputs": [],
   "source": []
  }
 ],
 "metadata": {
  "kernelspec": {
   "display_name": "Python 3",
   "language": "python",
   "name": "python3"
  },
  "language_info": {
   "codemirror_mode": {
    "name": "ipython",
    "version": 3
   },
   "file_extension": ".py",
   "mimetype": "text/x-python",
   "name": "python",
   "nbconvert_exporter": "python",
   "pygments_lexer": "ipython3",
   "version": "3.9.6"
  }
 },
 "nbformat": 4,
 "nbformat_minor": 2
}
