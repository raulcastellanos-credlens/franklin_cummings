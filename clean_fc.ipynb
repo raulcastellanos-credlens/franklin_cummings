{
 "cells": [
  {
   "cell_type": "markdown",
   "metadata": {},
   "source": [
    "Import packages"
   ]
  },
  {
   "cell_type": "code",
   "execution_count": 58,
   "metadata": {},
   "outputs": [],
   "source": [
    "import pandas as pd\n",
    "import janitor\n",
    "from datetime import datetime\n",
    "import matplotlib.pyplot as plt\n",
    "import numpy as np\n",
    "\n",
    "\n",
    "pd.options.display.max_seq_items = 2000"
   ]
  },
  {
   "cell_type": "markdown",
   "metadata": {},
   "source": [
    "Ingest data"
   ]
  },
  {
   "cell_type": "code",
   "execution_count": 70,
   "metadata": {},
   "outputs": [
    {
     "data": {
      "text/plain": [
       "(1999, 28)"
      ]
     },
     "execution_count": 70,
     "metadata": {},
     "output_type": "execute_result"
    }
   ],
   "source": [
    "file_path = '../data/CredLens Data File - CredLens Data File.csv'\n",
    "fc_data = pd.read_csv(file_path)\n",
    "fc_data.shape"
   ]
  },
  {
   "cell_type": "markdown",
   "metadata": {},
   "source": [
    "Column names "
   ]
  },
  {
   "cell_type": "code",
   "execution_count": 61,
   "metadata": {},
   "outputs": [
    {
     "data": {
      "text/plain": [
       "Index(['FirstName', 'MiddleInitial', 'LastName', 'BirthDate', 'Degree',\n",
       "       'Major1', 'MajorID1', 'CognateID1', 'StudentUID', 'ExpectedGradTerm',\n",
       "       'StudentSSN', 'Email1', 'Address1', 'Address2', 'City', 'State',\n",
       "       'ZipCode', 'Phone1', 'Phone2', 'MobilePhone', 'GraduationDate',\n",
       "       'Cohort', 'Gender', 'EthnicOrigin', 'IsHispanic', 'CIPCode', 'Campus',\n",
       "       'CostType'],\n",
       "      dtype='object')"
      ]
     },
     "execution_count": 61,
     "metadata": {},
     "output_type": "execute_result"
    }
   ],
   "source": [
    "column_names = fc_data.columns\n",
    "column_names"
   ]
  },
  {
   "cell_type": "markdown",
   "metadata": {},
   "source": [
    "Clean the names "
   ]
  },
  {
   "cell_type": "code",
   "execution_count": 71,
   "metadata": {},
   "outputs": [],
   "source": [
    "fc_data = fc_data.clean_names()"
   ]
  },
  {
   "cell_type": "markdown",
   "metadata": {},
   "source": [
    "Clean SSN "
   ]
  },
  {
   "cell_type": "code",
   "execution_count": 67,
   "metadata": {},
   "outputs": [
    {
     "data": {
      "text/plain": [
       "(1999, 29)"
      ]
     },
     "execution_count": 67,
     "metadata": {},
     "output_type": "execute_result"
    }
   ],
   "source": [
    "# Remove dashes from SSNs, keeping NaN values unchanged\n",
    "fc_data[\"ssn\"] = fc_data[\"studentssn\"].str.replace(\"-\", \"\", regex=True)\n",
    "# Keep rows where 'ssn' is either NaN or matches exactly 9 digits\n",
    "fc_data[\"ssn\"] = fc_data[\"ssn\"].where(fc_data[\"ssn\"].str.fullmatch(r\"\\d{9}\"), np.nan)\n",
    "\n",
    "fc_data.shape"
   ]
  },
  {
   "cell_type": "markdown",
   "metadata": {},
   "source": [
    "Clean the dates in yyyymmdd format "
   ]
  },
  {
   "cell_type": "code",
   "execution_count": null,
   "metadata": {},
   "outputs": [],
   "source": [
    "fc_data[\"birthdate\"] = pd.to_datetime(fc_data[\"birthdate\"]).dt.strftime('%Y%m%d')\n",
    "fc_data[\"graduationdate\"] = pd.to_datetime(fc_data[\"graduationdate\"]).dt.strftime('%Y%m%d')"
   ]
  },
  {
   "cell_type": "markdown",
   "metadata": {},
   "source": [
    "Clean states names to code states "
   ]
  },
  {
   "cell_type": "code",
   "execution_count": 27,
   "metadata": {},
   "outputs": [
    {
     "data": {
      "text/plain": [
       "state\n",
       "MA    1809\n",
       "FL      18\n",
       "NH      14\n",
       "RI      12\n",
       "TX      11\n",
       "Name: count, dtype: int64"
      ]
     },
     "execution_count": 27,
     "metadata": {},
     "output_type": "execute_result"
    }
   ],
   "source": [
    "#FC data is already in this format \n",
    "fc_data.state.value_counts().head()"
   ]
  },
  {
   "cell_type": "markdown",
   "metadata": {},
   "source": [
    "Create age bucket"
   ]
  },
  {
   "cell_type": "code",
   "execution_count": 36,
   "metadata": {},
   "outputs": [],
   "source": [
    "def calculate_age_bucket(row):\n",
    "    \"\"\"\n",
    "    Calculate the age bucket based on birthdate and graduationdate.\n",
    "    The input should be a row containing 'birthdate' and 'graduationdate' in 'yyyymmdd' format.\n",
    "    \"\"\"\n",
    "    try:\n",
    "        # Convert to datetime\n",
    "        birthdate = datetime.strptime(row[\"birthdate\"], '%Y%m%d')\n",
    "        graduationdate = datetime.strptime(row[\"graduationdate\"], '%Y%m%d')\n",
    "\n",
    "        # Calculate age at graduation date\n",
    "        age = graduationdate.year - birthdate.year - ((graduationdate.month, graduationdate.day) < (birthdate.month, birthdate.day))\n",
    "\n",
    "        # Assign age bucket\n",
    "        if age < 18:\n",
    "            return \"Under 18\"\n",
    "        elif 18 <= age <= 24:\n",
    "            return \"18-24\"\n",
    "        elif 25 <= age <= 34:\n",
    "            return \"25-34\"\n",
    "        elif 35 <= age <= 44:\n",
    "            return \"35-44\"\n",
    "        elif 45 <= age <= 54:\n",
    "            return \"45-54\"\n",
    "        elif 55 <= age <= 64:\n",
    "            return \"55-64\"\n",
    "        else:\n",
    "            return \"65 or over\"\n",
    "    except Exception as e:\n",
    "        return \"Invalid Date\"\n",
    "\n",
    "fc_data[\"age_bucket\"] = fc_data.apply(calculate_age_bucket, axis=1)"
   ]
  },
  {
   "cell_type": "code",
   "execution_count": 41,
   "metadata": {},
   "outputs": [
    {
     "data": {
      "image/png": "[encoded data removed]",
      "text/plain": [
       "<Figure size 640x480 with 1 Axes>"
      ]
     },
     "metadata": {},
     "output_type": "display_data"
    }
   ],
   "source": [
    "category_counts = fc_data['age_bucket'].value_counts()\n",
    "category_counts.plot(kind='bar')\n",
    "plt.title('Age Bucket Counts')\n",
    "plt.xlabel('Category')\n",
    "plt.ylabel('Count')\n",
    "plt.show()"
   ]
  },
  {
   "cell_type": "markdown",
   "metadata": {},
   "source": [
    "Make address1 contain both address1 and address2 "
   ]
  },
  {
   "cell_type": "code",
   "execution_count": 73,
   "metadata": {},
   "outputs": [],
   "source": [
    "fc_data['address1'] = fc_data['address1'] + (' ' + fc_data['address2']).fillna('')"
   ]
  },
  {
   "cell_type": "markdown",
   "metadata": {},
   "source": [
    "Rename variables for golden record"
   ]
  },
  {
   "cell_type": "markdown",
   "metadata": {},
   "source": [
    "Index(['firstname', 'middleinitial', 'lastname', 'birthdate', 'degree',\n",
    "       'major1', 'majorid1', 'cognateid1', 'studentuid', 'expectedgradterm',\n",
    "       'studentssn', 'email1', 'address1', 'address2', 'city', 'state',\n",
    "       'zipcode', 'phone1', 'phone2', 'mobilephone', 'graduationdate',\n",
    "       'cohort', 'gender', 'ethnicorigin', 'ishispanic', 'cipcode', 'campus',\n",
    "       'costtype'],\n",
    "      dtype='object')"
   ]
  },
  {
   "cell_type": "code",
   "execution_count": null,
   "metadata": {},
   "outputs": [],
   "source": [
    "# Renaming multiple columns\n",
    "df.rename(columns={\n",
    "    'firstname': 'new_name',\n",
    "    'another_old_name': 'another_new_name'\n",
    "}, inplace=True)"
   ]
  }
 ],
 "metadata": {
  "kernelspec": {
   "display_name": "Python 3",
   "language": "python",
   "name": "python3"
  },
  "language_info": {
   "codemirror_mode": {
    "name": "ipython",
    "version": 3
   },
   "file_extension": ".py",
   "mimetype": "text/x-python",
   "name": "python",
   "nbconvert_exporter": "python",
   "pygments_lexer": "ipython3",
   "version": "3.9.6"
  }
 },
 "nbformat": 4,
 "nbformat_minor": 2
}
