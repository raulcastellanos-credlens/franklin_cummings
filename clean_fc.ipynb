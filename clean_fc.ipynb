{
 "cells": [
  {
   "cell_type": "code",
   "execution_count": 7,
   "metadata": {},
   "outputs": [],
   "source": [
    "import pandas as pd\n",
    "import janitor"
   ]
  },
  {
   "cell_type": "code",
   "execution_count": 9,
   "metadata": {},
   "outputs": [],
   "source": [
    "file_path = '../data/CredLens Data File - CredLens Data File.csv'\n",
    "fc_data = pd.read_csv(file_path)"
   ]
  },
  {
   "cell_type": "markdown",
   "metadata": {},
   "source": [
    "Column names "
   ]
  },
  {
   "cell_type": "code",
   "execution_count": 13,
   "metadata": {},
   "outputs": [
    {
     "data": {
      "text/plain": [
       "Index(['firstname', 'middleinitial', 'lastname', 'birthdate', 'degree',\n",
       "       'major1', 'majorid1', 'cognateid1', 'studentuid', 'expectedgradterm',\n",
       "       'studentssn', 'email1', 'address1', 'address2', 'city', 'state',\n",
       "       'zipcode', 'phone1', 'phone2', 'mobilephone', 'graduationdate',\n",
       "       'cohort', 'gender', 'ethnicorigin', 'ishispanic', 'cipcode', 'campus',\n",
       "       'costtype'],\n",
       "      dtype='object')"
      ]
     },
     "execution_count": 13,
     "metadata": {},
     "output_type": "execute_result"
    }
   ],
   "source": [
    "column_names = fc_data.columns\n",
    "column_names"
   ]
  },
  {
   "cell_type": "markdown",
   "metadata": {},
   "source": [
    "Clean the names "
   ]
  },
  {
   "cell_type": "code",
   "execution_count": 12,
   "metadata": {},
   "outputs": [],
   "source": [
    "fc_data = fc_data.clean_names()"
   ]
  },
  {
   "cell_type": "markdown",
   "metadata": {},
   "source": [
    "Clean SSN "
   ]
  },
  {
   "cell_type": "code",
   "execution_count": 17,
   "metadata": {},
   "outputs": [],
   "source": [
    "# Remove dashes from SSNs, keeping NaN values unchanged\n",
    "fc_data[\"ssn\"] = fc_data[\"studentssn\"].str.replace(\"-\", \"\", regex=True)\n",
    "\n",
    "# Keep rows where 'ssn' is either NaN or matches exactly 9 digits\n",
    "fc_data = fc_data[fc_data[\"ssn\"].isna() | fc_data[\"ssn\"].str.fullmatch(r\"\\d{9}\")]"
   ]
  },
  {
   "cell_type": "code",
   "execution_count": null,
   "metadata": {},
   "outputs": [],
   "source": []
  }
 ],
 "metadata": {
  "kernelspec": {
   "display_name": "Python 3",
   "language": "python",
   "name": "python3"
  },
  "language_info": {
   "codemirror_mode": {
    "name": "ipython",
    "version": 3
   },
   "file_extension": ".py",
   "mimetype": "text/x-python",
   "name": "python",
   "nbconvert_exporter": "python",
   "pygments_lexer": "ipython3",
   "version": "3.9.6"
  }
 },
 "nbformat": 4,
 "nbformat_minor": 2
}
